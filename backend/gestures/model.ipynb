{
 "cells": [
  {
   "cell_type": "markdown",
   "id": "818ec4d3549b1362",
   "metadata": {},
   "source": [
    "# Hand Tracking Model"
   ]
  },
  {
   "cell_type": "markdown",
   "id": "ab2121ff7cd170f4",
   "metadata": {},
   "source": [
    "## Load imports"
   ]
  },
  {
   "cell_type": "code",
   "execution_count": 1,
   "id": "2314bb2798d6707f",
   "metadata": {
    "ExecuteTime": {
     "end_time": "2025-05-06T07:37:23.969331Z",
     "start_time": "2025-05-06T07:37:10.530511Z"
    }
   },
   "outputs": [],
   "source": [
    "# Przetwarzanie danych\n",
    "import pandas as pd\n",
    "import numpy as np\n",
    "\n",
    "# Skalowanie i podział danych\n",
    "from sklearn.preprocessing import StandardScaler, LabelEncoder\n",
    "from sklearn.model_selection import train_test_split\n",
    "\n",
    "# Ewaluacja\n",
    "from sklearn.metrics import accuracy_score, classification_report\n",
    "\n",
    "# Model\n",
    "from xgboost import XGBClassifier\n",
    "\n",
    "# Zapis modelu i skalera\n",
    "import pickle\n"
   ]
  },
  {
   "cell_type": "markdown",
   "id": "c4b1877ffad43951",
   "metadata": {},
   "source": [
    "## Load dataset"
   ]
  },
  {
   "cell_type": "code",
   "execution_count": 2,
   "id": "785285599207aeca",
   "metadata": {
    "ExecuteTime": {
     "end_time": "2025-05-06T07:37:42.327869Z",
     "start_time": "2025-05-06T07:37:42.295703Z"
    }
   },
   "outputs": [
    {
     "name": "stdout",
     "output_type": "stream",
     "text": [
      "✅ Dane wczytane.\n"
     ]
    },
    {
     "data": {
      "text/html": [
       "<div>\n",
       "<style scoped>\n",
       "    .dataframe tbody tr th:only-of-type {\n",
       "        vertical-align: middle;\n",
       "    }\n",
       "\n",
       "    .dataframe tbody tr th {\n",
       "        vertical-align: top;\n",
       "    }\n",
       "\n",
       "    .dataframe thead th {\n",
       "        text-align: right;\n",
       "    }\n",
       "</style>\n",
       "<table border=\"1\" class=\"dataframe\">\n",
       "  <thead>\n",
       "    <tr style=\"text-align: right;\">\n",
       "      <th></th>\n",
       "      <th>0</th>\n",
       "      <th>1</th>\n",
       "      <th>2</th>\n",
       "      <th>3</th>\n",
       "      <th>4</th>\n",
       "      <th>5</th>\n",
       "      <th>6</th>\n",
       "      <th>7</th>\n",
       "      <th>8</th>\n",
       "      <th>9</th>\n",
       "      <th>...</th>\n",
       "      <th>54</th>\n",
       "      <th>55</th>\n",
       "      <th>56</th>\n",
       "      <th>57</th>\n",
       "      <th>58</th>\n",
       "      <th>59</th>\n",
       "      <th>60</th>\n",
       "      <th>61</th>\n",
       "      <th>62</th>\n",
       "      <th>label</th>\n",
       "    </tr>\n",
       "  </thead>\n",
       "  <tbody>\n",
       "    <tr>\n",
       "      <th>0</th>\n",
       "      <td>0.494490</td>\n",
       "      <td>0.708071</td>\n",
       "      <td>2.878070e-07</td>\n",
       "      <td>0.524123</td>\n",
       "      <td>0.677799</td>\n",
       "      <td>-0.032304</td>\n",
       "      <td>0.546674</td>\n",
       "      <td>0.630880</td>\n",
       "      <td>-0.047820</td>\n",
       "      <td>0.565645</td>\n",
       "      <td>...</td>\n",
       "      <td>0.454037</td>\n",
       "      <td>0.495310</td>\n",
       "      <td>-0.025063</td>\n",
       "      <td>0.442520</td>\n",
       "      <td>0.460195</td>\n",
       "      <td>-0.032691</td>\n",
       "      <td>0.434146</td>\n",
       "      <td>0.425948</td>\n",
       "      <td>-0.037496</td>\n",
       "      <td>OPEN</td>\n",
       "    </tr>\n",
       "    <tr>\n",
       "      <th>1</th>\n",
       "      <td>0.494238</td>\n",
       "      <td>0.707083</td>\n",
       "      <td>3.094904e-07</td>\n",
       "      <td>0.523785</td>\n",
       "      <td>0.676861</td>\n",
       "      <td>-0.033344</td>\n",
       "      <td>0.546862</td>\n",
       "      <td>0.631029</td>\n",
       "      <td>-0.049547</td>\n",
       "      <td>0.566174</td>\n",
       "      <td>...</td>\n",
       "      <td>0.453692</td>\n",
       "      <td>0.495877</td>\n",
       "      <td>-0.023847</td>\n",
       "      <td>0.442023</td>\n",
       "      <td>0.461033</td>\n",
       "      <td>-0.031497</td>\n",
       "      <td>0.433738</td>\n",
       "      <td>0.427381</td>\n",
       "      <td>-0.036450</td>\n",
       "      <td>OPEN</td>\n",
       "    </tr>\n",
       "    <tr>\n",
       "      <th>2</th>\n",
       "      <td>0.525618</td>\n",
       "      <td>0.723417</td>\n",
       "      <td>2.485319e-07</td>\n",
       "      <td>0.561070</td>\n",
       "      <td>0.677013</td>\n",
       "      <td>-0.016650</td>\n",
       "      <td>0.582363</td>\n",
       "      <td>0.608424</td>\n",
       "      <td>-0.024285</td>\n",
       "      <td>0.600644</td>\n",
       "      <td>...</td>\n",
       "      <td>0.450767</td>\n",
       "      <td>0.524465</td>\n",
       "      <td>-0.037607</td>\n",
       "      <td>0.438585</td>\n",
       "      <td>0.490851</td>\n",
       "      <td>-0.044003</td>\n",
       "      <td>0.429751</td>\n",
       "      <td>0.455712</td>\n",
       "      <td>-0.047923</td>\n",
       "      <td>OPEN</td>\n",
       "    </tr>\n",
       "    <tr>\n",
       "      <th>3</th>\n",
       "      <td>0.443406</td>\n",
       "      <td>0.533408</td>\n",
       "      <td>3.308509e-07</td>\n",
       "      <td>0.492958</td>\n",
       "      <td>0.479014</td>\n",
       "      <td>-0.023147</td>\n",
       "      <td>0.524925</td>\n",
       "      <td>0.393028</td>\n",
       "      <td>-0.032627</td>\n",
       "      <td>0.547941</td>\n",
       "      <td>...</td>\n",
       "      <td>0.355848</td>\n",
       "      <td>0.259022</td>\n",
       "      <td>-0.050706</td>\n",
       "      <td>0.339588</td>\n",
       "      <td>0.204934</td>\n",
       "      <td>-0.061433</td>\n",
       "      <td>0.326375</td>\n",
       "      <td>0.152666</td>\n",
       "      <td>-0.068224</td>\n",
       "      <td>OPEN</td>\n",
       "    </tr>\n",
       "    <tr>\n",
       "      <th>4</th>\n",
       "      <td>0.431041</td>\n",
       "      <td>0.538612</td>\n",
       "      <td>3.439229e-07</td>\n",
       "      <td>0.478237</td>\n",
       "      <td>0.484201</td>\n",
       "      <td>-0.023533</td>\n",
       "      <td>0.509063</td>\n",
       "      <td>0.395912</td>\n",
       "      <td>-0.033089</td>\n",
       "      <td>0.532328</td>\n",
       "      <td>...</td>\n",
       "      <td>0.340244</td>\n",
       "      <td>0.261701</td>\n",
       "      <td>-0.048480</td>\n",
       "      <td>0.323630</td>\n",
       "      <td>0.207409</td>\n",
       "      <td>-0.058714</td>\n",
       "      <td>0.310164</td>\n",
       "      <td>0.153941</td>\n",
       "      <td>-0.065264</td>\n",
       "      <td>OPEN</td>\n",
       "    </tr>\n",
       "  </tbody>\n",
       "</table>\n",
       "<p>5 rows × 64 columns</p>\n",
       "</div>"
      ],
      "text/plain": [
       "          0         1             2         3         4         5         6  \\\n",
       "0  0.494490  0.708071  2.878070e-07  0.524123  0.677799 -0.032304  0.546674   \n",
       "1  0.494238  0.707083  3.094904e-07  0.523785  0.676861 -0.033344  0.546862   \n",
       "2  0.525618  0.723417  2.485319e-07  0.561070  0.677013 -0.016650  0.582363   \n",
       "3  0.443406  0.533408  3.308509e-07  0.492958  0.479014 -0.023147  0.524925   \n",
       "4  0.431041  0.538612  3.439229e-07  0.478237  0.484201 -0.023533  0.509063   \n",
       "\n",
       "          7         8         9  ...        54        55        56        57  \\\n",
       "0  0.630880 -0.047820  0.565645  ...  0.454037  0.495310 -0.025063  0.442520   \n",
       "1  0.631029 -0.049547  0.566174  ...  0.453692  0.495877 -0.023847  0.442023   \n",
       "2  0.608424 -0.024285  0.600644  ...  0.450767  0.524465 -0.037607  0.438585   \n",
       "3  0.393028 -0.032627  0.547941  ...  0.355848  0.259022 -0.050706  0.339588   \n",
       "4  0.395912 -0.033089  0.532328  ...  0.340244  0.261701 -0.048480  0.323630   \n",
       "\n",
       "         58        59        60        61        62  label  \n",
       "0  0.460195 -0.032691  0.434146  0.425948 -0.037496   OPEN  \n",
       "1  0.461033 -0.031497  0.433738  0.427381 -0.036450   OPEN  \n",
       "2  0.490851 -0.044003  0.429751  0.455712 -0.047923   OPEN  \n",
       "3  0.204934 -0.061433  0.326375  0.152666 -0.068224   OPEN  \n",
       "4  0.207409 -0.058714  0.310164  0.153941 -0.065264   OPEN  \n",
       "\n",
       "[5 rows x 64 columns]"
      ]
     },
     "execution_count": 2,
     "metadata": {},
     "output_type": "execute_result"
    }
   ],
   "source": [
    "df = pd.read_csv(\"gestures_dataset.csv\")\n",
    "print(\"✅ Dane wczytane.\")\n",
    "df.head()"
   ]
  },
  {
   "cell_type": "markdown",
   "id": "865a5b4b84865532",
   "metadata": {},
   "source": [
    "## Split dataset into features and labels"
   ]
  },
  {
   "cell_type": "code",
   "execution_count": 3,
   "id": "ee61834155878f3e",
   "metadata": {
    "ExecuteTime": {
     "end_time": "2025-05-06T07:37:45.140504Z",
     "start_time": "2025-05-06T07:37:45.134258Z"
    }
   },
   "outputs": [
    {
     "name": "stdout",
     "output_type": "stream",
     "text": [
      "X shape: (1705, 63)\n",
      "y shape: (1705,)\n",
      "Unique labels: ['OPEN' 'CLOSE' 'POINTER']\n"
     ]
    }
   ],
   "source": [
    "X = df.drop(columns=[\"label\"])\n",
    "y = df[\"label\"]\n",
    "\n",
    "print(\"X shape:\", X.shape)\n",
    "print(\"y shape:\", y.shape)\n",
    "print(\"Unique labels:\", y.unique())"
   ]
  },
  {
   "cell_type": "markdown",
   "id": "f368da7e36310b26",
   "metadata": {},
   "source": [
    "## Data normalization"
   ]
  },
  {
   "cell_type": "code",
   "execution_count": 4,
   "id": "bb6765e2e8381ca5",
   "metadata": {
    "ExecuteTime": {
     "end_time": "2025-05-06T07:37:47.206594Z",
     "start_time": "2025-05-06T07:37:47.200635Z"
    }
   },
   "outputs": [
    {
     "name": "stdout",
     "output_type": "stream",
     "text": [
      "✅ Dane znormalizowane.\n"
     ]
    }
   ],
   "source": [
    "scaler = StandardScaler()\n",
    "X_scaled = scaler.fit_transform(X)\n",
    "\n",
    "print(\"✅ Dane znormalizowane.\")"
   ]
  },
  {
   "cell_type": "markdown",
   "id": "418c19ab-1540-4a0c-adeb-0d132c3341da",
   "metadata": {},
   "source": [
    "## Encoder"
   ]
  },
  {
   "cell_type": "code",
   "execution_count": 5,
   "id": "a2442aa5-5804-4f7f-aa1c-e0718e07f14c",
   "metadata": {
    "ExecuteTime": {
     "end_time": "2025-05-06T07:37:49.035553Z",
     "start_time": "2025-05-06T07:37:49.032465Z"
    }
   },
   "outputs": [
    {
     "name": "stdout",
     "output_type": "stream",
     "text": [
      "✅ Etykiety zakodowane.\n",
      "Oryginalne pierwsze 5: ['OPEN' 'OPEN' 'OPEN' 'OPEN' 'OPEN']\n",
      "Zakodowane pierwsze 5: [1 1 1 1 1]\n",
      "Mapowanie (Klasy):\n",
      "0: CLOSE\n",
      "1: OPEN\n",
      "2: POINTER\n"
     ]
    }
   ],
   "source": [
    "label_encoder = LabelEncoder()\n",
    "y_encoded = label_encoder.fit_transform(y)\n",
    "\n",
    "print(\"✅ Etykiety zakodowane.\")\n",
    "print(\"Oryginalne pierwsze 5:\", y.values[:5])\n",
    "print(\"Zakodowane pierwsze 5:\", y_encoded[:5])\n",
    "print(\"Mapowanie (Klasy):\")\n",
    "for i, class_name in enumerate(label_encoder.classes_):\n",
    "    print(f\"{i}: {class_name}\")"
   ]
  },
  {
   "cell_type": "markdown",
   "id": "3731acbf-7c1c-4aeb-86ad-f416015526ca",
   "metadata": {},
   "source": [
    "## Train and test split data"
   ]
  },
  {
   "cell_type": "code",
   "execution_count": 6,
   "id": "aac6cacb-14a6-4fc0-a792-e4555f2bd8a0",
   "metadata": {
    "ExecuteTime": {
     "end_time": "2025-05-06T07:37:51.269536Z",
     "start_time": "2025-05-06T07:37:51.262723Z"
    }
   },
   "outputs": [
    {
     "name": "stdout",
     "output_type": "stream",
     "text": [
      "✅ Podzielono dane.\n",
      "Trening X: (1364, 63) | Test X: (341, 63)\n",
      "Trening y: (1364,) | Test y: (341,)\n",
      "Typ y_train: int64\n"
     ]
    }
   ],
   "source": [
    "X_train, X_test, y_train, y_test = train_test_split(\n",
    "    X_scaled, y_encoded, test_size=0.2, random_state=42, stratify=y_encoded\n",
    ")\n",
    "\n",
    "print(\"✅ Podzielono dane.\")\n",
    "print(\"Trening X:\", X_train.shape, \"| Test X:\", X_test.shape) # ADDED Line\n",
    "print(\"Trening y:\", y_train.shape, \"| Test y:\", y_test.shape) # ADDED Line\n",
    "print(\"Typ y_train:\", y_train.dtype)"
   ]
  },
  {
   "cell_type": "markdown",
   "id": "c22a0cef-df71-4ea5-8fd3-940199b6d8f7",
   "metadata": {},
   "source": [
    "## Model training"
   ]
  },
  {
   "cell_type": "code",
   "execution_count": 7,
   "id": "669db8a6-dd32-460a-bf1a-1ec4a922ed54",
   "metadata": {
    "ExecuteTime": {
     "end_time": "2025-05-06T07:37:55.050088Z",
     "start_time": "2025-05-06T07:37:54.521823Z"
    }
   },
   "outputs": [
    {
     "name": "stderr",
     "output_type": "stream",
     "text": [
      "/Volumes/bartekdanko/Python/SpotifyWCAG/.venv/lib/python3.9/site-packages/xgboost/core.py:158: UserWarning: [09:37:54] WARNING: /Users/runner/work/xgboost/xgboost/src/learner.cc:740: \n",
      "Parameters: { \"use_label_encoder\" } are not used.\n",
      "\n",
      "  warnings.warn(smsg, UserWarning)\n"
     ]
    },
    {
     "name": "stdout",
     "output_type": "stream",
     "text": [
      "✅ Model wytrenowany.\n"
     ]
    }
   ],
   "source": [
    "model = XGBClassifier(\n",
    "    n_estimators=150,\n",
    "    max_depth=6,\n",
    "    learning_rate=0.1,\n",
    "    subsample=0.9,\n",
    "    objective='multi:softmax',\n",
    "    num_class=len(label_encoder.classes_),\n",
    "    use_label_encoder=False,\n",
    "    eval_metric=\"mlogloss\"\n",
    ")\n",
    "\n",
    "model.fit(X_train, y_train)\n",
    "print(\"✅ Model wytrenowany.\")\n"
   ]
  },
  {
   "cell_type": "code",
   "execution_count": 8,
   "id": "8fe26cc7-20e3-4a9c-96ce-b4ef12c8fe7b",
   "metadata": {
    "ExecuteTime": {
     "end_time": "2025-05-06T07:37:58.177391Z",
     "start_time": "2025-05-06T07:37:58.169735Z"
    }
   },
   "outputs": [
    {
     "name": "stdout",
     "output_type": "stream",
     "text": [
      "✅ Accuracy: 0.9912023460410557\n",
      "\n",
      "📊 Classification report:\n",
      "\n",
      "              precision    recall  f1-score   support\n",
      "\n",
      "           0       0.98      1.00      0.99        94\n",
      "           1       0.99      1.00      1.00       121\n",
      "           2       1.00      0.98      0.99       126\n",
      "\n",
      "    accuracy                           0.99       341\n",
      "   macro avg       0.99      0.99      0.99       341\n",
      "weighted avg       0.99      0.99      0.99       341\n",
      "\n"
     ]
    }
   ],
   "source": [
    "y_pred = model.predict(X_test)\n",
    "\n",
    "print(\"✅ Accuracy:\", accuracy_score(y_test, y_pred))\n",
    "print(\"\\n📊 Classification report:\\n\")\n",
    "print(classification_report(y_test, y_pred))"
   ]
  },
  {
   "cell_type": "code",
   "execution_count": 9,
   "id": "0f99d8d5-c6e7-4712-863c-b7f4579ff203",
   "metadata": {
    "ExecuteTime": {
     "end_time": "2025-05-06T07:38:03.531684Z",
     "start_time": "2025-05-06T07:38:03.520324Z"
    }
   },
   "outputs": [
    {
     "name": "stdout",
     "output_type": "stream",
     "text": [
      "✅ Zapisano: gesture_model.pkl, scaler.pkl, label_encoder.pkl\n"
     ]
    }
   ],
   "source": [
    "# Model\n",
    "with open(\"gesture_model.pkl\", \"wb\") as f:\n",
    "    pickle.dump(model, f)\n",
    "\n",
    "# Skaler\n",
    "with open(\"scaler.pkl\", \"wb\") as f:\n",
    "    pickle.dump(scaler, f)\n",
    "\n",
    "# LabelEncoder\n",
    "with open(\"label_encoder.pkl\", \"wb\") as f:\n",
    "    pickle.dump(label_encoder, f)\n",
    "\n",
    "print(\"✅ Zapisano: gesture_model.pkl, scaler.pkl, label_encoder.pkl\")"
   ]
  },
  {
   "cell_type": "code",
   "execution_count": null,
   "id": "1d93ae3e-500a-40b5-b3c5-2a0c473491a7",
   "metadata": {},
   "outputs": [],
   "source": []
  }
 ],
 "metadata": {
  "kernelspec": {
   "display_name": "Python 3 (ipykernel)",
   "language": "python",
   "name": "python3"
  },
  "language_info": {
   "codemirror_mode": {
    "name": "ipython",
    "version": 3
   },
   "file_extension": ".py",
   "mimetype": "text/x-python",
   "name": "python",
   "nbconvert_exporter": "python",
   "pygments_lexer": "ipython3",
   "version": "3.13.3"
  }
 },
 "nbformat": 4,
 "nbformat_minor": 5
}
