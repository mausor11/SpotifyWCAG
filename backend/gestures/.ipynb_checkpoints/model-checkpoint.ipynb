{
 "cells": [
  {
   "cell_type": "markdown",
   "id": "818ec4d3549b1362",
   "metadata": {},
   "source": [
    "# Hand Tracking Model"
   ]
  },
  {
   "cell_type": "markdown",
   "id": "ab2121ff7cd170f4",
   "metadata": {},
   "source": [
    "## Load imports"
   ]
  },
  {
   "cell_type": "code",
   "execution_count": 1,
   "id": "2314bb2798d6707f",
   "metadata": {
    "ExecuteTime": {
     "end_time": "2025-04-23T23:35:42.093145Z",
     "start_time": "2025-04-23T23:35:40.977233Z"
    }
   },
   "outputs": [],
   "source": [
    "# Przetwarzanie danych\n",
    "import pandas as pd\n",
    "import numpy as np\n",
    "\n",
    "# Skalowanie i podział danych\n",
    "from sklearn.preprocessing import StandardScaler\n",
    "from sklearn.model_selection import train_test_split\n",
    "\n",
    "# Ewaluacja\n",
    "from sklearn.metrics import accuracy_score, classification_report\n",
    "\n",
    "# Model\n",
    "from xgboost import XGBClassifier\n",
    "\n",
    "# Zapis modelu i skalera\n",
    "import pickle\n"
   ]
  },
  {
   "cell_type": "markdown",
   "id": "c4b1877ffad43951",
   "metadata": {},
   "source": [
    "## Load dataset"
   ]
  },
  {
   "cell_type": "code",
   "execution_count": 2,
   "id": "785285599207aeca",
   "metadata": {},
   "outputs": [
    {
     "name": "stdout",
     "output_type": "stream",
     "text": [
      "✅ Dane wczytane.\n"
     ]
    },
    {
     "data": {
      "text/html": [
       "<div>\n",
       "<style scoped>\n",
       "    .dataframe tbody tr th:only-of-type {\n",
       "        vertical-align: middle;\n",
       "    }\n",
       "\n",
       "    .dataframe tbody tr th {\n",
       "        vertical-align: top;\n",
       "    }\n",
       "\n",
       "    .dataframe thead th {\n",
       "        text-align: right;\n",
       "    }\n",
       "</style>\n",
       "<table border=\"1\" class=\"dataframe\">\n",
       "  <thead>\n",
       "    <tr style=\"text-align: right;\">\n",
       "      <th></th>\n",
       "      <th>0</th>\n",
       "      <th>1</th>\n",
       "      <th>2</th>\n",
       "      <th>3</th>\n",
       "      <th>4</th>\n",
       "      <th>5</th>\n",
       "      <th>6</th>\n",
       "      <th>7</th>\n",
       "      <th>8</th>\n",
       "      <th>9</th>\n",
       "      <th>...</th>\n",
       "      <th>54</th>\n",
       "      <th>55</th>\n",
       "      <th>56</th>\n",
       "      <th>57</th>\n",
       "      <th>58</th>\n",
       "      <th>59</th>\n",
       "      <th>60</th>\n",
       "      <th>61</th>\n",
       "      <th>62</th>\n",
       "      <th>label</th>\n",
       "    </tr>\n",
       "  </thead>\n",
       "  <tbody>\n",
       "    <tr>\n",
       "      <th>0</th>\n",
       "      <td>0.494490</td>\n",
       "      <td>0.708071</td>\n",
       "      <td>2.878070e-07</td>\n",
       "      <td>0.524123</td>\n",
       "      <td>0.677799</td>\n",
       "      <td>-0.032304</td>\n",
       "      <td>0.546674</td>\n",
       "      <td>0.630880</td>\n",
       "      <td>-0.047820</td>\n",
       "      <td>0.565645</td>\n",
       "      <td>...</td>\n",
       "      <td>0.454037</td>\n",
       "      <td>0.495310</td>\n",
       "      <td>-0.025063</td>\n",
       "      <td>0.442520</td>\n",
       "      <td>0.460195</td>\n",
       "      <td>-0.032691</td>\n",
       "      <td>0.434146</td>\n",
       "      <td>0.425948</td>\n",
       "      <td>-0.037496</td>\n",
       "      <td>OPEN</td>\n",
       "    </tr>\n",
       "    <tr>\n",
       "      <th>1</th>\n",
       "      <td>0.494238</td>\n",
       "      <td>0.707083</td>\n",
       "      <td>3.094904e-07</td>\n",
       "      <td>0.523785</td>\n",
       "      <td>0.676861</td>\n",
       "      <td>-0.033344</td>\n",
       "      <td>0.546862</td>\n",
       "      <td>0.631029</td>\n",
       "      <td>-0.049547</td>\n",
       "      <td>0.566174</td>\n",
       "      <td>...</td>\n",
       "      <td>0.453692</td>\n",
       "      <td>0.495877</td>\n",
       "      <td>-0.023847</td>\n",
       "      <td>0.442023</td>\n",
       "      <td>0.461033</td>\n",
       "      <td>-0.031497</td>\n",
       "      <td>0.433738</td>\n",
       "      <td>0.427381</td>\n",
       "      <td>-0.036450</td>\n",
       "      <td>OPEN</td>\n",
       "    </tr>\n",
       "    <tr>\n",
       "      <th>2</th>\n",
       "      <td>0.525618</td>\n",
       "      <td>0.723417</td>\n",
       "      <td>2.485319e-07</td>\n",
       "      <td>0.561070</td>\n",
       "      <td>0.677013</td>\n",
       "      <td>-0.016650</td>\n",
       "      <td>0.582363</td>\n",
       "      <td>0.608424</td>\n",
       "      <td>-0.024285</td>\n",
       "      <td>0.600644</td>\n",
       "      <td>...</td>\n",
       "      <td>0.450767</td>\n",
       "      <td>0.524465</td>\n",
       "      <td>-0.037607</td>\n",
       "      <td>0.438585</td>\n",
       "      <td>0.490851</td>\n",
       "      <td>-0.044003</td>\n",
       "      <td>0.429751</td>\n",
       "      <td>0.455712</td>\n",
       "      <td>-0.047923</td>\n",
       "      <td>OPEN</td>\n",
       "    </tr>\n",
       "    <tr>\n",
       "      <th>3</th>\n",
       "      <td>0.443406</td>\n",
       "      <td>0.533408</td>\n",
       "      <td>3.308509e-07</td>\n",
       "      <td>0.492958</td>\n",
       "      <td>0.479014</td>\n",
       "      <td>-0.023147</td>\n",
       "      <td>0.524925</td>\n",
       "      <td>0.393028</td>\n",
       "      <td>-0.032627</td>\n",
       "      <td>0.547941</td>\n",
       "      <td>...</td>\n",
       "      <td>0.355848</td>\n",
       "      <td>0.259022</td>\n",
       "      <td>-0.050706</td>\n",
       "      <td>0.339588</td>\n",
       "      <td>0.204934</td>\n",
       "      <td>-0.061433</td>\n",
       "      <td>0.326375</td>\n",
       "      <td>0.152666</td>\n",
       "      <td>-0.068224</td>\n",
       "      <td>OPEN</td>\n",
       "    </tr>\n",
       "    <tr>\n",
       "      <th>4</th>\n",
       "      <td>0.431041</td>\n",
       "      <td>0.538612</td>\n",
       "      <td>3.439229e-07</td>\n",
       "      <td>0.478237</td>\n",
       "      <td>0.484201</td>\n",
       "      <td>-0.023533</td>\n",
       "      <td>0.509063</td>\n",
       "      <td>0.395912</td>\n",
       "      <td>-0.033089</td>\n",
       "      <td>0.532328</td>\n",
       "      <td>...</td>\n",
       "      <td>0.340244</td>\n",
       "      <td>0.261701</td>\n",
       "      <td>-0.048480</td>\n",
       "      <td>0.323630</td>\n",
       "      <td>0.207409</td>\n",
       "      <td>-0.058714</td>\n",
       "      <td>0.310164</td>\n",
       "      <td>0.153941</td>\n",
       "      <td>-0.065264</td>\n",
       "      <td>OPEN</td>\n",
       "    </tr>\n",
       "  </tbody>\n",
       "</table>\n",
       "<p>5 rows × 64 columns</p>\n",
       "</div>"
      ],
      "text/plain": [
       "          0         1             2         3         4         5         6  \\\n",
       "0  0.494490  0.708071  2.878070e-07  0.524123  0.677799 -0.032304  0.546674   \n",
       "1  0.494238  0.707083  3.094904e-07  0.523785  0.676861 -0.033344  0.546862   \n",
       "2  0.525618  0.723417  2.485319e-07  0.561070  0.677013 -0.016650  0.582363   \n",
       "3  0.443406  0.533408  3.308509e-07  0.492958  0.479014 -0.023147  0.524925   \n",
       "4  0.431041  0.538612  3.439229e-07  0.478237  0.484201 -0.023533  0.509063   \n",
       "\n",
       "          7         8         9  ...        54        55        56        57  \\\n",
       "0  0.630880 -0.047820  0.565645  ...  0.454037  0.495310 -0.025063  0.442520   \n",
       "1  0.631029 -0.049547  0.566174  ...  0.453692  0.495877 -0.023847  0.442023   \n",
       "2  0.608424 -0.024285  0.600644  ...  0.450767  0.524465 -0.037607  0.438585   \n",
       "3  0.393028 -0.032627  0.547941  ...  0.355848  0.259022 -0.050706  0.339588   \n",
       "4  0.395912 -0.033089  0.532328  ...  0.340244  0.261701 -0.048480  0.323630   \n",
       "\n",
       "         58        59        60        61        62  label  \n",
       "0  0.460195 -0.032691  0.434146  0.425948 -0.037496   OPEN  \n",
       "1  0.461033 -0.031497  0.433738  0.427381 -0.036450   OPEN  \n",
       "2  0.490851 -0.044003  0.429751  0.455712 -0.047923   OPEN  \n",
       "3  0.204934 -0.061433  0.326375  0.152666 -0.068224   OPEN  \n",
       "4  0.207409 -0.058714  0.310164  0.153941 -0.065264   OPEN  \n",
       "\n",
       "[5 rows x 64 columns]"
      ]
     },
     "execution_count": 2,
     "metadata": {},
     "output_type": "execute_result"
    }
   ],
   "source": [
    "df = pd.read_csv(\"gestures_dataset.csv\")\n",
    "print(\"✅ Dane wczytane.\")\n",
    "df.head()"
   ]
  },
  {
   "cell_type": "markdown",
   "id": "865a5b4b84865532",
   "metadata": {},
   "source": [
    "## Split dataset into features and labels"
   ]
  },
  {
   "cell_type": "code",
   "execution_count": 3,
   "id": "ee61834155878f3e",
   "metadata": {},
   "outputs": [
    {
     "name": "stdout",
     "output_type": "stream",
     "text": [
      "X shape: (1705, 63)\n",
      "y shape: (1705,)\n"
     ]
    }
   ],
   "source": [
    "X = df.drop(columns=[\"label\"])\n",
    "y = df[\"label\"]\n",
    "\n",
    "print(\"X shape:\", X.shape)\n",
    "print(\"y shape:\", y.shape)"
   ]
  },
  {
   "cell_type": "markdown",
   "id": "f368da7e36310b26",
   "metadata": {},
   "source": [
    "## Data normalization"
   ]
  },
  {
   "cell_type": "code",
   "execution_count": 4,
   "id": "bb6765e2e8381ca5",
   "metadata": {},
   "outputs": [
    {
     "name": "stdout",
     "output_type": "stream",
     "text": [
      "✅ Dane znormalizowane.\n"
     ]
    }
   ],
   "source": [
    "scaler = StandardScaler()\n",
    "X_scaled = scaler.fit_transform(X)\n",
    "\n",
    "print(\"✅ Dane znormalizowane.\")"
   ]
  },
  {
   "cell_type": "code",
   "execution_count": null,
   "id": "f8fadf0a-e9c7-4047-8c26-45167db38016",
   "metadata": {},
   "outputs": [],
   "source": []
  },
  {
   "cell_type": "code",
   "execution_count": 7,
   "id": "a2442aa5-5804-4f7f-aa1c-e0718e07f14c",
   "metadata": {},
   "outputs": [
    {
     "ename": "NameError",
     "evalue": "name 'LabelEncoder' is not defined",
     "output_type": "error",
     "traceback": [
      "\u001b[31m---------------------------------------------------------------------------\u001b[39m",
      "\u001b[31mNameError\u001b[39m                                 Traceback (most recent call last)",
      "\u001b[36mCell\u001b[39m\u001b[36m \u001b[39m\u001b[32mIn[7]\u001b[39m\u001b[32m, line 1\u001b[39m\n\u001b[32m----> \u001b[39m\u001b[32m1\u001b[39m label_encoder = \u001b[43mLabelEncoder\u001b[49m()\n\u001b[32m      2\u001b[39m y_encoded = label_encoder.fit_transform(y)\n\u001b[32m      4\u001b[39m \u001b[38;5;28mprint\u001b[39m(\u001b[33m\"\u001b[39m\u001b[33mEtykiety:\u001b[39m\u001b[33m\"\u001b[39m, \u001b[38;5;28mlist\u001b[39m(label_encoder.classes_))  \u001b[38;5;66;03m# ['CLOSE', 'OPEN', 'POINTER']\u001b[39;00m\n",
      "\u001b[31mNameError\u001b[39m: name 'LabelEncoder' is not defined"
     ]
    }
   ],
   "source": [
    "label_encoder = LabelEncoder()\n",
    "y_encoded = label_encoder.fit_transform(y)\n",
    "\n",
    "print(\"Etykiety:\", list(label_encoder.classes_))  # ['CLOSE', 'OPEN', 'POINTER']\n",
    "print(\"Zakodowane:\", y_encoded[:5])"
   ]
  },
  {
   "cell_type": "markdown",
   "id": "3731acbf-7c1c-4aeb-86ad-f416015526ca",
   "metadata": {},
   "source": [
    "## Train and test split data"
   ]
  },
  {
   "cell_type": "code",
   "execution_count": 5,
   "id": "aac6cacb-14a6-4fc0-a792-e4555f2bd8a0",
   "metadata": {},
   "outputs": [
    {
     "name": "stdout",
     "output_type": "stream",
     "text": [
      "✅ Podzielono dane.\n",
      "Trening: (1364, 63) | Test: (341, 63)\n"
     ]
    }
   ],
   "source": [
    "X_train, X_test, y_train, y_test = train_test_split(\n",
    "    X_scaled, y, test_size=0.2, random_state=42, stratify=y\n",
    ")\n",
    "\n",
    "print(\"✅ Podzielono dane.\")\n",
    "print(\"Trening:\", X_train.shape, \"| Test:\", X_test.shape)\n"
   ]
  },
  {
   "cell_type": "markdown",
   "id": "c22a0cef-df71-4ea5-8fd3-940199b6d8f7",
   "metadata": {},
   "source": [
    "## Model training"
   ]
  },
  {
   "cell_type": "code",
   "execution_count": 6,
   "id": "669db8a6-dd32-460a-bf1a-1ec4a922ed54",
   "metadata": {},
   "outputs": [
    {
     "ename": "ValueError",
     "evalue": "Invalid classes inferred from unique values of `y`.  Expected: [0 1 2], got ['CLOSE' 'OPEN' 'POINTER']",
     "output_type": "error",
     "traceback": [
      "\u001b[31m---------------------------------------------------------------------------\u001b[39m",
      "\u001b[31mValueError\u001b[39m                                Traceback (most recent call last)",
      "\u001b[36mCell\u001b[39m\u001b[36m \u001b[39m\u001b[32mIn[6]\u001b[39m\u001b[32m, line 12\u001b[39m\n\u001b[32m      1\u001b[39m \u001b[38;5;28;01mfrom\u001b[39;00m\u001b[38;5;250m \u001b[39m\u001b[34;01mxgboost\u001b[39;00m\u001b[38;5;250m \u001b[39m\u001b[38;5;28;01mimport\u001b[39;00m XGBClassifier\n\u001b[32m      3\u001b[39m model = XGBClassifier(\n\u001b[32m      4\u001b[39m     n_estimators=\u001b[32m150\u001b[39m,\n\u001b[32m      5\u001b[39m     max_depth=\u001b[32m6\u001b[39m,\n\u001b[32m   (...)\u001b[39m\u001b[32m      9\u001b[39m     eval_metric=\u001b[33m\"\u001b[39m\u001b[33mmlogloss\u001b[39m\u001b[33m\"\u001b[39m\n\u001b[32m     10\u001b[39m )\n\u001b[32m---> \u001b[39m\u001b[32m12\u001b[39m \u001b[43mmodel\u001b[49m\u001b[43m.\u001b[49m\u001b[43mfit\u001b[49m\u001b[43m(\u001b[49m\u001b[43mX_train\u001b[49m\u001b[43m,\u001b[49m\u001b[43m \u001b[49m\u001b[43my_train\u001b[49m\u001b[43m)\u001b[49m\n\u001b[32m     13\u001b[39m \u001b[38;5;28mprint\u001b[39m(\u001b[33m\"\u001b[39m\u001b[33m✅ Model wytrenowany.\u001b[39m\u001b[33m\"\u001b[39m)\n",
      "\u001b[36mFile \u001b[39m\u001b[32m/Volumes/bartekdanko/Python/SpotifyWCAG/.venv/.venv/lib/python3.13/site-packages/xgboost/core.py:729\u001b[39m, in \u001b[36mrequire_keyword_args.<locals>.throw_if.<locals>.inner_f\u001b[39m\u001b[34m(*args, **kwargs)\u001b[39m\n\u001b[32m    727\u001b[39m \u001b[38;5;28;01mfor\u001b[39;00m k, arg \u001b[38;5;129;01min\u001b[39;00m \u001b[38;5;28mzip\u001b[39m(sig.parameters, args):\n\u001b[32m    728\u001b[39m     kwargs[k] = arg\n\u001b[32m--> \u001b[39m\u001b[32m729\u001b[39m \u001b[38;5;28;01mreturn\u001b[39;00m \u001b[43mfunc\u001b[49m\u001b[43m(\u001b[49m\u001b[43m*\u001b[49m\u001b[43m*\u001b[49m\u001b[43mkwargs\u001b[49m\u001b[43m)\u001b[49m\n",
      "\u001b[36mFile \u001b[39m\u001b[32m/Volumes/bartekdanko/Python/SpotifyWCAG/.venv/.venv/lib/python3.13/site-packages/xgboost/sklearn.py:1640\u001b[39m, in \u001b[36mXGBClassifier.fit\u001b[39m\u001b[34m(self, X, y, sample_weight, base_margin, eval_set, verbose, xgb_model, sample_weight_eval_set, base_margin_eval_set, feature_weights)\u001b[39m\n\u001b[32m   1635\u001b[39m     expected_classes = \u001b[38;5;28mself\u001b[39m.classes_\n\u001b[32m   1636\u001b[39m \u001b[38;5;28;01mif\u001b[39;00m (\n\u001b[32m   1637\u001b[39m     classes.shape != expected_classes.shape\n\u001b[32m   1638\u001b[39m     \u001b[38;5;129;01mor\u001b[39;00m \u001b[38;5;129;01mnot\u001b[39;00m (classes == expected_classes).all()\n\u001b[32m   1639\u001b[39m ):\n\u001b[32m-> \u001b[39m\u001b[32m1640\u001b[39m     \u001b[38;5;28;01mraise\u001b[39;00m \u001b[38;5;167;01mValueError\u001b[39;00m(\n\u001b[32m   1641\u001b[39m         \u001b[33mf\u001b[39m\u001b[33m\"\u001b[39m\u001b[33mInvalid classes inferred from unique values of `y`.  \u001b[39m\u001b[33m\"\u001b[39m\n\u001b[32m   1642\u001b[39m         \u001b[33mf\u001b[39m\u001b[33m\"\u001b[39m\u001b[33mExpected: \u001b[39m\u001b[38;5;132;01m{\u001b[39;00mexpected_classes\u001b[38;5;132;01m}\u001b[39;00m\u001b[33m, got \u001b[39m\u001b[38;5;132;01m{\u001b[39;00mclasses\u001b[38;5;132;01m}\u001b[39;00m\u001b[33m\"\u001b[39m\n\u001b[32m   1643\u001b[39m     )\n\u001b[32m   1645\u001b[39m params = \u001b[38;5;28mself\u001b[39m.get_xgb_params()\n\u001b[32m   1647\u001b[39m \u001b[38;5;28;01mif\u001b[39;00m \u001b[38;5;28mcallable\u001b[39m(\u001b[38;5;28mself\u001b[39m.objective):\n",
      "\u001b[31mValueError\u001b[39m: Invalid classes inferred from unique values of `y`.  Expected: [0 1 2], got ['CLOSE' 'OPEN' 'POINTER']"
     ]
    }
   ],
   "source": [
    "from xgboost import XGBClassifier\n",
    "\n",
    "model = XGBClassifier(\n",
    "    n_estimators=150,\n",
    "    max_depth=6,\n",
    "    learning_rate=0.1,\n",
    "    subsample=0.9,\n",
    "    use_label_encoder=False,\n",
    "    eval_metric=\"mlogloss\"\n",
    ")\n",
    "\n",
    "model.fit(X_train, y_train)\n",
    "print(\"✅ Model wytrenowany.\")\n"
   ]
  },
  {
   "cell_type": "code",
   "execution_count": null,
   "id": "8fe26cc7-20e3-4a9c-96ce-b4ef12c8fe7b",
   "metadata": {},
   "outputs": [],
   "source": []
  }
 ],
 "metadata": {
  "kernelspec": {
   "display_name": "Python 3 (ipykernel)",
   "language": "python",
   "name": "python3"
  },
  "language_info": {
   "codemirror_mode": {
    "name": "ipython",
    "version": 3
   },
   "file_extension": ".py",
   "mimetype": "text/x-python",
   "name": "python",
   "nbconvert_exporter": "python",
   "pygments_lexer": "ipython3",
   "version": "3.13.3"
  }
 },
 "nbformat": 4,
 "nbformat_minor": 5
}
